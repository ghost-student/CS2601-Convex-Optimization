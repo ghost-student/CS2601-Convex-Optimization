{
 "metadata": {
  "language_info": {
   "codemirror_mode": {
    "name": "ipython",
    "version": 3
   },
   "file_extension": ".py",
   "mimetype": "text/x-python",
   "name": "python",
   "nbconvert_exporter": "python",
   "pygments_lexer": "ipython3",
   "version": "3.8.5-final"
  },
  "orig_nbformat": 2,
  "kernelspec": {
   "name": "python3",
   "display_name": "Python 3"
  }
 },
 "nbformat": 4,
 "nbformat_minor": 2,
 "cells": [
  {
   "source": [
    "# Homework 10\n",
    "\n",
    "Problem 3"
   ],
   "cell_type": "markdown",
   "metadata": {}
  },
  {
   "cell_type": "code",
   "execution_count": 1,
   "metadata": {},
   "outputs": [],
   "source": [
    "import numpy as np\n",
    "import newton as nt"
   ]
  },
  {
   "source": [
    "## Initialize the problem"
   ],
   "cell_type": "markdown",
   "metadata": {}
  },
  {
   "cell_type": "code",
   "execution_count": 2,
   "metadata": {},
   "outputs": [],
   "source": [
    "a = np.array([1, 2, 2], dtype=float)\n",
    "x = np.array([1, 0, 1])"
   ]
  },
  {
   "cell_type": "code",
   "execution_count": 3,
   "metadata": {},
   "outputs": [],
   "source": [
    "a = np.array([1, 2, 2], dtype=float)\n",
    "\n",
    "def f(x):\n",
    "    return np.sum(np.exp(a * x))\n",
    "\n",
    "def fp(x):\n",
    "    #   START OF YOUR CODE\n",
    "    return a * np.exp(a * x)\n",
    "    #   END OF YOUR CODE\n",
    "\n",
    "def fpp(x):\n",
    "    #   START OF YOUR CODE\n",
    "    return np.diag(a ** 2 * np.exp(a * x))\n",
    "    #   END OF YOUR CODE"
   ]
  },
  {
   "cell_type": "code",
   "execution_count": 4,
   "metadata": {},
   "outputs": [],
   "source": [
    "A = np.array([[1, 1, 1]], dtype=float)\n",
    "b = np.array([1], dtype=float)"
   ]
  },
  {
   "source": [
    "## Try running the Newton step\n",
    "\n",
    "Part (b)"
   ],
   "cell_type": "markdown",
   "metadata": {}
  },
  {
   "cell_type": "code",
   "execution_count": 5,
   "metadata": {},
   "outputs": [
    {
     "output_type": "stream",
     "name": "stdout",
     "text": [
      "iteration 0: [1. 0. 0.]\niteration 1: [0.84776623 0.07611688 0.07611688]\niteration 2: [0.84657359 0.0767132  0.0767132 ]\niteration 3: [0.84657359 0.0767132  0.0767132 ]\noptimal value: 4.663287963194248\n\n"
     ]
    }
   ],
   "source": [
    "x0 = np.array([1, 0, 0], dtype=float)\n",
    "x_traces = nt.newton(fp, fpp, x0, A, b, maxiter=5)\n",
    "\n",
    "for k, x in enumerate(x_traces):\n",
    "    print('iteration {}: {}'.format(k, x))\n",
    "print('optimal value: {}'.format(f(x_traces[-1])))\n",
    "print()"
   ]
  },
  {
   "source": [
    "## Newton’s Method for Equality Constrained Problem\n",
    "\n",
    "Part (c)"
   ],
   "cell_type": "markdown",
   "metadata": {}
  },
  {
   "cell_type": "code",
   "execution_count": 6,
   "metadata": {
    "tags": []
   },
   "outputs": [
    {
     "output_type": "stream",
     "name": "stdout",
     "text": [
      "iteration 0: [1. 0. 0.]\niteration 1: [0.84776623 0.07611688 0.07611688]\niteration 2: [0.84657359 0.0767132  0.0767132 ]\niteration 3: [0.84657359 0.0767132  0.0767132 ]\noptimal value: 4.663287963194248\nstep sizes: [1.0, 1.0, 1.0]\n\niteration 0: [ 2. -1.  0.]\niteration 1: [ 1.12123562  0.15481017 -0.2760458 ]\niteration 2: [ 0.9666166   0.09922011 -0.0658367 ]\niteration 3: [0.90354278 0.08470489 0.01175234]\niteration 4: [0.87442649 0.079997   0.0455765 ]\niteration 5: [0.86035569 0.07818861 0.0614557 ]\niteration 6: [0.85343009 0.07741064 0.06915928]\niteration 7: [0.84999338 0.07705202 0.0729546 ]\niteration 8: [0.84828139 0.07688016 0.07483845]\niteration 9: [0.84742697 0.07679607 0.07577696]\niteration 10: [0.84700015 0.07675448 0.07624536]\niteration 11: [0.84678684 0.07673381 0.07647936]\niteration 12: [0.84668021 0.0767235  0.0765963 ]\niteration 13: [0.8466269  0.07671835 0.07665476]\niteration 14: [0.84660024 0.07671578 0.07668398]\niteration 15: [0.84658692 0.07671449 0.07669859]\niteration 16: [0.84658025 0.07671385 0.0767059 ]\niteration 17: [0.84657359 0.0767132  0.0767132 ]\noptimal value: 4.663287963194248\nstep sizes: [1.0, 0.5, 0.5, 0.5, 0.5, 0.5, 0.5, 0.5, 0.5, 0.5, 0.5, 0.5, 0.5, 0.5, 0.5, 0.5, 1.0]\n\n"
     ]
    }
   ],
   "source": [
    "for x0 in [np.array([1, 0, 0], dtype=float), np.array([2, -1, 0], dtype=float)]:\n",
    "    x_traces, stepsize_traces = nt.newton_eq(f, fp, fpp, x0, A, b)\n",
    "\n",
    "    for k, x in enumerate(x_traces):\n",
    "        print('iteration {}: {}'.format(k, x))\n",
    "    print('optimal value: {}'.format(f(x_traces[-1])))\n",
    "    print('step sizes: {}'.format(stepsize_traces))\n",
    "    print()"
   ]
  }
 ]
}
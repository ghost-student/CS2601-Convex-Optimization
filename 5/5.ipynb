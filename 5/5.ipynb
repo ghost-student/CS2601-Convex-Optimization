{
 "metadata": {
  "language_info": {
   "codemirror_mode": {
    "name": "ipython",
    "version": 3
   },
   "file_extension": ".py",
   "mimetype": "text/x-python",
   "name": "python",
   "nbconvert_exporter": "python",
   "pygments_lexer": "ipython3",
   "version": "3.8.5-final"
  },
  "orig_nbformat": 2,
  "kernelspec": {
   "name": "Python 3.8.5 64-bit ('base': conda)",
   "display_name": "Python 3.8.5 64-bit ('base': conda)",
   "metadata": {
    "interpreter": {
     "hash": "3f005de3725263f5ed0d187de559d13c4a33e0d2d4b97cca274c5d3abd2d6a57"
    }
   }
  }
 },
 "nbformat": 4,
 "nbformat_minor": 2,
 "cells": [
  {
   "source": [
    "# Homework 5 Script"
   ],
   "cell_type": "markdown",
   "metadata": {}
  },
  {
   "source": [
    "## Problem 2\n",
    "\n",
    "Source: [cvxpy/tutorial.ipynb](https://github.com/cvxgrp/cvxpy/blob/master/examples/notebooks/tutorial.ipynb)"
   ],
   "cell_type": "markdown",
   "metadata": {}
  },
  {
   "cell_type": "code",
   "execution_count": 1,
   "metadata": {},
   "outputs": [
    {
     "output_type": "stream",
     "name": "stdout",
     "text": [
      "objective func: x_1 + x_2\nstatus: optimal\noptimal value: 0.5999999999116253\noptimal var: x_1 = 0.3999999999724491, x_2 = 0.1999999999391762\n\nobjective func: -x_1 - x_2\nstatus: unbounded\noptimal value: -inf\noptimal var: x_1 = None, x_2 = None\n\nobjective func: x_1\nstatus: optimal\noptimal value: -2.2491441767693296e-10\noptimal var: x_1 = -2.2491441767693299e-10, x_2 = 1.5537158969947242\n\nobjective func: maximum(x_1, x_2)\nstatus: optimal\noptimal value: 0.3333333330990559\noptimal var: x_1 = 0.3333333334080862, x_2 = 0.33333333286259564\n\nobjective func: x_1 ** 2 + 9 * x_2 ** 2\nstatus: optimal\noptimal value: 0.5000000000000003\noptimal var: x_1 = 0.5000000000000001, x_2 = 0.1666666666666667\n\n"
     ]
    }
   ],
   "source": [
    "from cvxpy import *\n",
    "\n",
    "# Create two scalar variables.\n",
    "x_1 = Variable()\n",
    "x_2 = Variable()\n",
    "\n",
    "# Create two constraints.\n",
    "constraints = [2 * x_1 + x_2 >= 1,\n",
    "               x_1 + 3 * x_2 >= 1,\n",
    "               x_1 >= 0,\n",
    "               x_2 >= 0]\n",
    "\n",
    "# Form objectives.\n",
    "func = [\"x_1 + x_2\",\n",
    "        \"-x_1 - x_2\",\n",
    "        \"x_1\",\n",
    "        \"maximum(x_1, x_2)\",\n",
    "        \"x_1 ** 2 + 9 * x_2 ** 2\"]\n",
    "\n",
    "# Form and solve problem.\n",
    "for f in func:\n",
    "    obj = Minimize(eval(f))\n",
    "    prob = Problem(obj, constraints)\n",
    "    prob.solve()  # Returns the optimal value.\n",
    "    print(\"objective func: {}\".format(f))\n",
    "    print(\"status: {}\".format(prob.status))\n",
    "    print(\"optimal value: {}\".format(prob.value))\n",
    "    print(\"optimal var: x_1 = {}, x_2 = {}\".format(x_1.value, x_2.value))\n",
    "    print()"
   ]
  },
  {
   "source": [
    "## Problem 3\n",
    "\n",
    "Source: [cvxpy/linear_program.ipynb](https://github.com/cvxgrp/cvxpy/blob/master/examples/notebooks/WWW/linear_program.ipynb)"
   ],
   "cell_type": "markdown",
   "metadata": {}
  },
  {
   "cell_type": "code",
   "execution_count": 2,
   "metadata": {},
   "outputs": [
    {
     "output_type": "stream",
     "name": "stdout",
     "text": [
      "(b) Solving the original problem...\nThe optimal value is 17.999999970151602\nA solution x is [ 1. -1.]\n\n(c) Solving the LP reformulation...\nThe optimal value is 17.999999999831587\nA solution x is [ 1. -1.]\n\n"
     ]
    }
   ],
   "source": [
    "# Import packages.\n",
    "import cvxpy as cp\n",
    "import numpy as np\n",
    "\n",
    "# Initialize linear program coefficients.\n",
    "m = 3\n",
    "n = 2\n",
    "one_m = np.array([1] * m).T\n",
    "one_n = np.array([1] * n).T\n",
    "A = np.array([[3, 2],\n",
    "              [2, -4],\n",
    "              [2, 5]])\n",
    "b = np.array([10, 12, -6]).T\n",
    "x = cp.Variable(n)\n",
    "t = cp.Variable(m)\n",
    "\n",
    "# (b) Define and solve the original problem.\n",
    "prob = cp.Problem(cp.Minimize(cp.norm(A@x - b, 1)),\n",
    "                 [cp.norm(x, 'inf') <= 1])\n",
    "prob.solve()\n",
    "\n",
    "print(\"(b) Solving the original problem...\")\n",
    "print(\"The optimal value is {}\".format(prob.value))\n",
    "print(\"A solution x is {}\".format(x.value))\n",
    "print()\n",
    "\n",
    "# (c) Define and solve the LP reformulation.\n",
    "prob = cp.Problem(cp.Minimize(one_m.T@t),\n",
    "                 [A@x - b >= -t,\n",
    "                  A@x - b <= t,\n",
    "                  x >= -one_n,\n",
    "                  x <= one_n])\n",
    "prob.solve()\n",
    "\n",
    "print(\"(c) Solving the LP reformulation...\")\n",
    "print(\"The optimal value is {}\".format(prob.value))\n",
    "print(\"A solution x is {}\".format(x.value))\n",
    "print()"
   ]
  },
  {
   "source": [
    "## Problem 4\n",
    "\n",
    "Source: [cvxpy/least_squares.ipynb](https://github.com/cvxgrp/cvxpy/blob/master/examples/notebooks/WWW/least_squares.ipynb)"
   ],
   "cell_type": "markdown",
   "metadata": {}
  },
  {
   "cell_type": "code",
   "execution_count": 3,
   "metadata": {},
   "outputs": [
    {
     "output_type": "stream",
     "name": "stdout",
     "text": [
      "(b) Solving Lasso, t = 1...\nThe optimal value is 9.000000000000002\nThe optimal x is [1.00000000e+00 1.32836223e-22]\n\n(b) Solving Lasso, t = 10...\nThe optimal value is 4.000000007895741\nThe optimal x is [1.5 2. ]\n\n\n(c) Solving Ridge regreesion, t = 1...\nThe optimal value is 7.8574896650394415\nThe optimal x is [0.86268568 0.50574047]\n\n(c) Solving Ridge regreesion, t = 100...\nThe optimal value is 3.999999999618536\nThe optimal x is [1.50000211 2.00000644]\n\n\n"
     ]
    }
   ],
   "source": [
    "# Import packages.\n",
    "import cvxpy as cp\n",
    "import numpy as np\n",
    "\n",
    "# Initialize least squares regression coefficients.\n",
    "m = 3\n",
    "n = 2\n",
    "X = np.array([[2, 0],\n",
    "              [0, 1],\n",
    "              [0, 0]])\n",
    "y = np.array([3, 2, 2]).T\n",
    "w = cp.Variable(n)\n",
    "cost = cp.sum_squares(X@w - y)\n",
    "\n",
    "# (b) Define and solve Lasso.\n",
    "t_values = [1, 10]\n",
    "for t in t_values:\n",
    "    prob = cp.Problem(cp.Minimize(cost),\n",
    "                    [cp.norm(w, 1) <= t])\n",
    "    prob.solve()\n",
    "    print(\"(b) Solving Lasso, t = {}...\".format(t))\n",
    "    print(\"The optimal value is {}\".format(prob.value))\n",
    "    print(\"The optimal x is {}\".format(w.value))\n",
    "    print()\n",
    "print()\n",
    "\n",
    "# (c) Define and solve Ridge regreesion.\n",
    "t_values = [1, 100]\n",
    "for t in t_values:\n",
    "    prob = cp.Problem(cp.Minimize(cost),\n",
    "                    [cp.norm(w, 2) <= t])\n",
    "    prob.solve()\n",
    "    print(\"(c) Solving Ridge regreesion, t = {}...\".format(t))\n",
    "    print(\"The optimal value is {}\".format(prob.value))\n",
    "    print(\"The optimal x is {}\".format(w.value))\n",
    "    print()\n",
    "print()"
   ]
  }
 ]
}
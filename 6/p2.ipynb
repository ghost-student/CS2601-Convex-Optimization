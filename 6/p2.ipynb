{
 "metadata": {
  "language_info": {
   "codemirror_mode": {
    "name": "ipython",
    "version": 3
   },
   "file_extension": ".py",
   "mimetype": "text/x-python",
   "name": "python",
   "nbconvert_exporter": "python",
   "pygments_lexer": "ipython3",
   "version": "3.8.5-final"
  },
  "orig_nbformat": 2,
  "kernelspec": {
   "name": "Python 3.8.5 64-bit ('base': conda)",
   "display_name": "Python 3.8.5 64-bit ('base': conda)",
   "metadata": {
    "interpreter": {
     "hash": "3f005de3725263f5ed0d187de559d13c4a33e0d2d4b97cca274c5d3abd2d6a57"
    }
   }
  }
 },
 "nbformat": 4,
 "nbformat_minor": 2,
 "cells": [
  {
   "source": [
    "# Problem 2"
   ],
   "cell_type": "markdown",
   "metadata": {}
  },
  {
   "cell_type": "code",
   "execution_count": 1,
   "metadata": {},
   "outputs": [],
   "source": [
    "import numpy as np\n",
    "import gd"
   ]
  },
  {
   "cell_type": "code",
   "execution_count": 2,
   "metadata": {},
   "outputs": [],
   "source": [
    "X = np.array([[2, 0],\n",
    "              [0, 1],\n",
    "              [0, 0]])\n",
    "y = np.array([3, 2, 2]).T\n",
    "\n",
    "f = lambda w: w@(X.T@X)@w - 2 * (X.T@y)@w + y@y\n",
    "fp = lambda w: (X.T@X)@w - X.T@y"
   ]
  },
  {
   "cell_type": "code",
   "execution_count": 3,
   "metadata": {},
   "outputs": [
    {
     "output_type": "stream",
     "name": "stdout",
     "text": [
      "w_0 = [1. 1.], step size = 0.1\nnumber of iterations: 110\nThe optimal w is [1.5        1.99999074]\n"
     ]
    }
   ],
   "source": [
    "# Use gradient descent\n",
    "w0 = np.array([1.0, 1.0])\n",
    "stepsize = 0.1\n",
    "w_traces = gd.gd_const_ss(fp, w0, stepsize)\n",
    "\n",
    "print('w_0 = {}, step size = {}'.format(w_traces[0], stepsize))\n",
    "print('number of iterations: {}'.format(len(w_traces) - 1))\n",
    "print(\"The optimal w is {}\".format(w_traces[-1]))"
   ]
  },
  {
   "cell_type": "code",
   "execution_count": 4,
   "metadata": {},
   "outputs": [
    {
     "output_type": "stream",
     "name": "stdout",
     "text": [
      "The optimal w is [1.5 2. ]\n"
     ]
    }
   ],
   "source": [
    "# Solve the normal equation\n",
    "w = np.linalg.solve(X.T@X, X.T@y)\n",
    "print(\"The optimal w is {}\".format(w))"
   ]
  }
 ]
}
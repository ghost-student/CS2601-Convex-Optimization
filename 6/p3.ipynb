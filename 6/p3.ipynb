{
 "metadata": {
  "language_info": {
   "codemirror_mode": {
    "name": "ipython",
    "version": 3
   },
   "file_extension": ".py",
   "mimetype": "text/x-python",
   "name": "python",
   "nbconvert_exporter": "python",
   "pygments_lexer": "ipython3",
   "version": "3.8.5-final"
  },
  "orig_nbformat": 2,
  "kernelspec": {
   "name": "Python 3.8.5 64-bit ('base': conda)",
   "display_name": "Python 3.8.5 64-bit ('base': conda)",
   "metadata": {
    "interpreter": {
     "hash": "3f005de3725263f5ed0d187de559d13c4a33e0d2d4b97cca274c5d3abd2d6a57"
    }
   }
  }
 },
 "nbformat": 4,
 "nbformat_minor": 2,
 "cells": [
  {
   "source": [
    "# Problem 3"
   ],
   "cell_type": "markdown",
   "metadata": {}
  },
  {
   "cell_type": "code",
   "execution_count": 1,
   "metadata": {},
   "outputs": [],
   "source": [
    "import numpy as np\n",
    "import matplotlib.pyplot as plt\n",
    "import gd\n",
    "import utils"
   ]
  },
  {
   "cell_type": "code",
   "execution_count": 2,
   "metadata": {},
   "outputs": [
    {
     "output_type": "stream",
     "name": "stdout",
     "text": [
      "(15, 3) (15,)\n"
     ]
    }
   ],
   "source": [
    "# x: features of data samples, y: categories of data samples\n",
    "x = np.array([[1, 1.5], [1.2, 2.5], [1, 3.5], [2, 2.25], [1.8, 3], [2.5, 4], [3, 1.9], \n",
    "              [1.5, .5], [2.5, .8], [2.8, .3], [3.2, .3], [3, .8], [3.8, 1], [4, 2], [1.8, 1.8]])\n",
    "# add bias term\n",
    "x = np.append(x, np.ones((15, 1)), axis=1)\n",
    "y = np.append(np.ones((7,)), np.zeros((8,)))\n",
    "\n",
    "# x.shape = (15, 3), y.shape = (15,)\n",
    "print(x.shape, y.shape)"
   ]
  },
  {
   "cell_type": "code",
   "execution_count": 3,
   "metadata": {},
   "outputs": [],
   "source": [
    "# sigmoid function\n",
    "def sigma(theta):\n",
    "    # implement the sigmoid function \\sigma_\\theta(x) here\n",
    "    return 1 / (1 + np.exp(-theta@x.T))\n",
    "\n",
    "def fp(theta):\n",
    "    # implement the function for computing gradient here\n",
    "    return (sigma(theta) - y)@x"
   ]
  },
  {
   "cell_type": "code",
   "execution_count": 4,
   "metadata": {
    "tags": []
   },
   "outputs": [],
   "source": [
    "# implement optimization by gradient descent here\n",
    "theta0 = np.zeros(3)\n",
    "stepsize = 0.1\n",
    "\n",
    "theta_trace = gd.gd_const_ss(fp, theta0, stepsize)"
   ]
  },
  {
   "cell_type": "code",
   "execution_count": 5,
   "metadata": {},
   "outputs": [
    {
     "output_type": "stream",
     "name": "stdout",
     "text": [
      "0.8666666666666667\n"
     ]
    },
    {
     "output_type": "display_data",
     "data": {
      "text/plain": "<Figure size 216x216 with 1 Axes>",
      "image/svg+xml": "<?xml version=\"1.0\" encoding=\"utf-8\" standalone=\"no\"?>\r\n<!DOCTYPE svg PUBLIC \"-//W3C//DTD SVG 1.1//EN\"\r\n  \"http://www.w3.org/Graphics/SVG/1.1/DTD/svg11.dtd\">\r\n<!-- Created with matplotlib (https://matplotlib.org/) -->\r\n<svg height=\"208.8pt\" version=\"1.1\" viewBox=\"0 0 208.8 208.8\" width=\"208.8pt\" xmlns=\"http://www.w3.org/2000/svg\" xmlns:xlink=\"http://www.w3.org/1999/xlink\">\r\n <metadata>\r\n  <rdf:RDF xmlns:cc=\"http://creativecommons.org/ns#\" xmlns:dc=\"http://purl.org/dc/elements/1.1/\" xmlns:rdf=\"http://www.w3.org/1999/02/22-rdf-syntax-ns#\">\r\n   <cc:Work>\r\n    <dc:type rdf:resource=\"http://purl.org/dc/dcmitype/StillImage\"/>\r\n    <dc:date>2020-10-28T16:32:12.908247</dc:date>\r\n    <dc:format>image/svg+xml</dc:format>\r\n    <dc:creator>\r\n     <cc:Agent>\r\n      <dc:title>Matplotlib v3.3.2, https://matplotlib.org/</dc:title>\r\n     </cc:Agent>\r\n    </dc:creator>\r\n   </cc:Work>\r\n  </rdf:RDF>\r\n </metadata>\r\n <defs>\r\n  <style type=\"text/css\">*{stroke-linecap:butt;stroke-linejoin:round;}</style>\r\n </defs>\r\n <g id=\"figure_1\">\r\n  <g id=\"patch_1\">\r\n   <path d=\"M 0 208.8 \r\nL 208.8 208.8 \r\nL 208.8 0 \r\nL 0 0 \r\nz\r\n\" style=\"fill:none;\"/>\r\n  </g>\r\n  <g id=\"axes_1\">\r\n   <g id=\"patch_2\">\r\n    <path d=\"M 19.181335 185.744323 \r\nL 201.6 185.744323 \r\nL 201.6 7.2 \r\nL 19.181335 7.2 \r\nz\r\n\" style=\"fill:#ffffff;\"/>\r\n   </g>\r\n   <g id=\"matplotlib.axis_1\">\r\n    <g id=\"xtick_1\">\r\n     <g id=\"line2d_1\">\r\n      <defs>\r\n       <path d=\"M 0 0 \r\nL 0 3.5 \r\n\" id=\"mead1526517\" style=\"stroke:#000000;stroke-width:0.8;\"/>\r\n      </defs>\r\n      <g>\r\n       <use style=\"stroke:#000000;stroke-width:0.8;\" x=\"27.473093\" xlink:href=\"#mead1526517\" y=\"185.744323\"/>\r\n      </g>\r\n     </g>\r\n     <g id=\"text_1\">\r\n      <!-- $\\mathdefault{1}$ -->\r\n      <g transform=\"translate(24.982425 199.662822)scale(0.1 -0.1)\">\r\n       <defs>\r\n        <path d=\"M 26.59375 63.796875 \r\nC 26.59375 65.890625 26.5 66 25.09375 66 \r\nC 21.203125 61.359375 15.296875 59.890625 9.703125 59.6875 \r\nC 9.40625 59.6875 8.90625 59.6875 8.796875 59.5 \r\nC 8.703125 59.296875 8.703125 59.09375 8.703125 57 \r\nC 11.796875 57 17 57.59375 21 59.984375 \r\nL 21 7.296875 \r\nC 21 3.796875 20.796875 2.59375 12.203125 2.59375 \r\nL 9.203125 2.59375 \r\nL 9.203125 0 \r\nC 14 0.09375 19 0.1875 23.796875 0.1875 \r\nC 28.59375 0.1875 33.59375 0.09375 38.40625 0 \r\nL 38.40625 2.59375 \r\nL 35.40625 2.59375 \r\nC 26.796875 2.59375 26.59375 3.6875 26.59375 7.296875 \r\nz\r\n\" id=\"CMR17-49\"/>\r\n       </defs>\r\n       <use transform=\"scale(0.996264)\" xlink:href=\"#CMR17-49\"/>\r\n      </g>\r\n     </g>\r\n    </g>\r\n    <g id=\"xtick_2\">\r\n     <g id=\"line2d_2\">\r\n      <g>\r\n       <use style=\"stroke:#000000;stroke-width:0.8;\" x=\"82.751476\" xlink:href=\"#mead1526517\" y=\"185.744323\"/>\r\n      </g>\r\n     </g>\r\n     <g id=\"text_2\">\r\n      <!-- $\\mathdefault{2}$ -->\r\n      <g transform=\"translate(80.260808 199.662822)scale(0.1 -0.1)\">\r\n       <defs>\r\n        <path d=\"M 41.703125 15.46875 \r\nL 39.90625 15.46875 \r\nC 38.90625 8.390625 38.09375 7.1875 37.703125 6.59375 \r\nC 37.203125 5.796875 30 5.796875 28.59375 5.796875 \r\nL 9.40625 5.796875 \r\nC 13 9.6875 20 16.765625 28.5 24.9375 \r\nC 34.59375 30.71875 41.703125 37.5 41.703125 47.390625 \r\nC 41.703125 59.1875 32.296875 66 21.796875 66 \r\nC 10.796875 66 4.09375 56.296875 4.09375 47.296875 \r\nC 4.09375 43.390625 7 42.890625 8.203125 42.890625 \r\nC 9.203125 42.890625 12.203125 43.484375 12.203125 46.984375 \r\nC 12.203125 50.09375 9.59375 51 8.203125 51 \r\nC 7.59375 51 7 50.890625 6.59375 50.6875 \r\nC 8.5 59.1875 14.296875 63.390625 20.40625 63.390625 \r\nC 29.09375 63.390625 34.796875 56.5 34.796875 47.390625 \r\nC 34.796875 38.703125 29.703125 31.21875 24 24.734375 \r\nL 4.09375 2.296875 \r\nL 4.09375 0 \r\nL 39.296875 0 \r\nz\r\n\" id=\"CMR17-50\"/>\r\n       </defs>\r\n       <use transform=\"scale(0.996264)\" xlink:href=\"#CMR17-50\"/>\r\n      </g>\r\n     </g>\r\n    </g>\r\n    <g id=\"xtick_3\">\r\n     <g id=\"line2d_3\">\r\n      <g>\r\n       <use style=\"stroke:#000000;stroke-width:0.8;\" x=\"138.029859\" xlink:href=\"#mead1526517\" y=\"185.744323\"/>\r\n      </g>\r\n     </g>\r\n     <g id=\"text_3\">\r\n      <!-- $\\mathdefault{3}$ -->\r\n      <g transform=\"translate(135.539192 199.662822)scale(0.1 -0.1)\">\r\n       <defs>\r\n        <path d=\"M 22.09375 34 \r\nC 31 34 34.90625 26.140625 34.90625 17.09375 \r\nC 34.90625 5.03125 28.5 0.390625 22.703125 0.390625 \r\nC 17.40625 0.390625 8.796875 3.015625 6.09375 10.796875 \r\nC 6.59375 10.59375 7.09375 10.59375 7.59375 10.59375 \r\nC 10 10.59375 11.796875 12.1875 11.796875 14.796875 \r\nC 11.796875 17.6875 9.59375 19 7.59375 19 \r\nC 5.90625 19 3.296875 18.1875 3.296875 14.484375 \r\nC 3.296875 5.234375 12.296875 -2 22.90625 -2 \r\nC 34 -2 42.5 6.75 42.5 16.984375 \r\nC 42.5 26.84375 34.5 34 25 35.09375 \r\nC 32.59375 36.671875 39.90625 43.375 39.90625 52.390625 \r\nC 39.90625 60.25 32 66 23 66 \r\nC 13.90625 66 5.90625 60.34375 5.90625 52.296875 \r\nC 5.90625 48.796875 8.5 48.1875 9.796875 48.1875 \r\nC 11.90625 48.1875 13.703125 49.484375 13.703125 52.09375 \r\nC 13.703125 54.6875 11.90625 56 9.796875 56 \r\nC 9.40625 56 8.90625 56 8.5 55.796875 \r\nC 11.40625 62.484375 19.296875 63.6875 22.796875 63.6875 \r\nC 26.296875 63.6875 32.90625 61.96875 32.90625 52.296875 \r\nC 32.90625 49.484375 32.5 44.546875 29.09375 40.21875 \r\nC 26.09375 36.390625 22.703125 36.1875 19.40625 35.890625 \r\nC 18.90625 35.890625 16.59375 35.6875 16.203125 35.6875 \r\nC 15.5 35.59375 15.09375 35.5 15.09375 34.796875 \r\nC 15.09375 34.09375 15.203125 34 17.203125 34 \r\nz\r\n\" id=\"CMR17-51\"/>\r\n       </defs>\r\n       <use transform=\"scale(0.996264)\" xlink:href=\"#CMR17-51\"/>\r\n      </g>\r\n     </g>\r\n    </g>\r\n    <g id=\"xtick_4\">\r\n     <g id=\"line2d_4\">\r\n      <g>\r\n       <use style=\"stroke:#000000;stroke-width:0.8;\" x=\"193.308243\" xlink:href=\"#mead1526517\" y=\"185.744323\"/>\r\n      </g>\r\n     </g>\r\n     <g id=\"text_4\">\r\n      <!-- $\\mathdefault{4}$ -->\r\n      <g transform=\"translate(190.817575 199.662822)scale(0.1 -0.1)\">\r\n       <defs>\r\n        <path d=\"M 33.59375 64.796875 \r\nC 33.59375 66.890625 33.5 67 31.703125 67 \r\nL 2 19.59375 \r\nL 2 17 \r\nL 27.796875 17 \r\nL 27.796875 7.1875 \r\nC 27.796875 3.59375 27.59375 2.59375 20.59375 2.59375 \r\nL 18.703125 2.59375 \r\nL 18.703125 0 \r\nC 21.90625 0.1875 27.296875 0.1875 30.703125 0.1875 \r\nC 34.09375 0.1875 39.5 0.1875 42.703125 0 \r\nL 42.703125 2.59375 \r\nL 40.796875 2.59375 \r\nC 33.796875 2.59375 33.59375 3.59375 33.59375 7.1875 \r\nL 33.59375 17 \r\nL 43.796875 17 \r\nL 43.796875 19.59375 \r\nL 33.59375 19.59375 \r\nz\r\nM 28.09375 58.171875 \r\nL 28.09375 19.59375 \r\nL 4 19.59375 \r\nz\r\n\" id=\"CMR17-52\"/>\r\n       </defs>\r\n       <use transform=\"scale(0.996264)\" xlink:href=\"#CMR17-52\"/>\r\n      </g>\r\n     </g>\r\n    </g>\r\n   </g>\r\n   <g id=\"matplotlib.axis_2\">\r\n    <g id=\"ytick_1\">\r\n     <g id=\"line2d_5\">\r\n      <defs>\r\n       <path d=\"M 0 0 \r\nL -3.5 0 \r\n\" id=\"m2d1b397153\" style=\"stroke:#000000;stroke-width:0.8;\"/>\r\n      </defs>\r\n      <g>\r\n       <use style=\"stroke:#000000;stroke-width:0.8;\" x=\"19.181335\" xlink:href=\"#m2d1b397153\" y=\"146.920803\"/>\r\n      </g>\r\n     </g>\r\n     <g id=\"text_5\">\r\n      <!-- $\\mathdefault{1}$ -->\r\n      <g transform=\"translate(7.2 150.380053)scale(0.1 -0.1)\">\r\n       <use transform=\"scale(0.996264)\" xlink:href=\"#CMR17-49\"/>\r\n      </g>\r\n     </g>\r\n    </g>\r\n    <g id=\"ytick_2\">\r\n     <g id=\"line2d_6\">\r\n      <g>\r\n       <use style=\"stroke:#000000;stroke-width:0.8;\" x=\"19.181335\" xlink:href=\"#m2d1b397153\" y=\"103.052419\"/>\r\n      </g>\r\n     </g>\r\n     <g id=\"text_6\">\r\n      <!-- $\\mathdefault{2}$ -->\r\n      <g transform=\"translate(7.2 106.511668)scale(0.1 -0.1)\">\r\n       <use transform=\"scale(0.996264)\" xlink:href=\"#CMR17-50\"/>\r\n      </g>\r\n     </g>\r\n    </g>\r\n    <g id=\"ytick_3\">\r\n     <g id=\"line2d_7\">\r\n      <g>\r\n       <use style=\"stroke:#000000;stroke-width:0.8;\" x=\"19.181335\" xlink:href=\"#m2d1b397153\" y=\"59.184035\"/>\r\n      </g>\r\n     </g>\r\n     <g id=\"text_7\">\r\n      <!-- $\\mathdefault{3}$ -->\r\n      <g transform=\"translate(7.2 62.643284)scale(0.1 -0.1)\">\r\n       <use transform=\"scale(0.996264)\" xlink:href=\"#CMR17-51\"/>\r\n      </g>\r\n     </g>\r\n    </g>\r\n    <g id=\"ytick_4\">\r\n     <g id=\"line2d_8\">\r\n      <g>\r\n       <use style=\"stroke:#000000;stroke-width:0.8;\" x=\"19.181335\" xlink:href=\"#m2d1b397153\" y=\"15.315651\"/>\r\n      </g>\r\n     </g>\r\n     <g id=\"text_8\">\r\n      <!-- $\\mathdefault{4}$ -->\r\n      <g transform=\"translate(7.2 18.7749)scale(0.1 -0.1)\">\r\n       <use transform=\"scale(0.996264)\" xlink:href=\"#CMR17-52\"/>\r\n      </g>\r\n     </g>\r\n    </g>\r\n   </g>\r\n   <g id=\"line2d_9\">\r\n    <defs>\r\n     <path d=\"M -3 3 \r\nL 3 -3 \r\nM -3 -3 \r\nL 3 3 \r\n\" id=\"m7cba6a7707\" style=\"stroke:#ff0000;\"/>\r\n    </defs>\r\n    <g clip-path=\"url(#pdd74d4cf0e)\">\r\n     <use style=\"fill:#ff0000;stroke:#ff0000;\" x=\"55.112284\" xlink:href=\"#m7cba6a7707\" y=\"168.854995\"/>\r\n     <use style=\"fill:#ff0000;stroke:#ff0000;\" x=\"110.390668\" xlink:href=\"#m7cba6a7707\" y=\"155.69448\"/>\r\n     <use style=\"fill:#ff0000;stroke:#ff0000;\" x=\"126.974183\" xlink:href=\"#m7cba6a7707\" y=\"177.628672\"/>\r\n     <use style=\"fill:#ff0000;stroke:#ff0000;\" x=\"149.085536\" xlink:href=\"#m7cba6a7707\" y=\"177.628672\"/>\r\n     <use style=\"fill:#ff0000;stroke:#ff0000;\" x=\"138.029859\" xlink:href=\"#m7cba6a7707\" y=\"155.69448\"/>\r\n     <use style=\"fill:#ff0000;stroke:#ff0000;\" x=\"182.252566\" xlink:href=\"#m7cba6a7707\" y=\"146.920803\"/>\r\n     <use style=\"fill:#ff0000;stroke:#ff0000;\" x=\"193.308243\" xlink:href=\"#m7cba6a7707\" y=\"103.052419\"/>\r\n     <use style=\"fill:#ff0000;stroke:#ff0000;\" x=\"71.695799\" xlink:href=\"#m7cba6a7707\" y=\"111.826096\"/>\r\n    </g>\r\n   </g>\r\n   <g id=\"line2d_10\">\r\n    <defs>\r\n     <path d=\"M 0 3 \r\nC 0.795609 3 1.55874 2.683901 2.12132 2.12132 \r\nC 2.683901 1.55874 3 0.795609 3 0 \r\nC 3 -0.795609 2.683901 -1.55874 2.12132 -2.12132 \r\nC 1.55874 -2.683901 0.795609 -3 0 -3 \r\nC -0.795609 -3 -1.55874 -2.683901 -2.12132 -2.12132 \r\nC -2.683901 -1.55874 -3 -0.795609 -3 0 \r\nC -3 0.795609 -2.683901 1.55874 -2.12132 2.12132 \r\nC -1.55874 2.683901 -0.795609 3 0 3 \r\nz\r\n\" id=\"m3094c89606\" style=\"stroke:#008000;\"/>\r\n    </defs>\r\n    <g clip-path=\"url(#pdd74d4cf0e)\">\r\n     <use style=\"fill:#008000;stroke:#008000;\" x=\"27.473093\" xlink:href=\"#m3094c89606\" y=\"124.986611\"/>\r\n     <use style=\"fill:#008000;stroke:#008000;\" x=\"38.528769\" xlink:href=\"#m3094c89606\" y=\"81.118227\"/>\r\n     <use style=\"fill:#008000;stroke:#008000;\" x=\"27.473093\" xlink:href=\"#m3094c89606\" y=\"37.249843\"/>\r\n     <use style=\"fill:#008000;stroke:#008000;\" x=\"82.751476\" xlink:href=\"#m3094c89606\" y=\"92.085323\"/>\r\n     <use style=\"fill:#008000;stroke:#008000;\" x=\"71.695799\" xlink:href=\"#m3094c89606\" y=\"59.184035\"/>\r\n     <use style=\"fill:#008000;stroke:#008000;\" x=\"110.390668\" xlink:href=\"#m3094c89606\" y=\"15.315651\"/>\r\n     <use style=\"fill:#008000;stroke:#008000;\" x=\"138.029859\" xlink:href=\"#m3094c89606\" y=\"107.439258\"/>\r\n    </g>\r\n   </g>\r\n   <g id=\"line2d_11\">\r\n    <path clip-path=\"url(#pdd74d4cf0e)\" d=\"M 27.473093 133.081358 \r\nL 29.148195 132.641551 \r\nL 30.823298 132.201744 \r\nL 32.4984 131.761937 \r\nL 34.173503 131.32213 \r\nL 35.848605 130.882323 \r\nL 37.523708 130.442516 \r\nL 39.19881 130.002709 \r\nL 40.873913 129.562902 \r\nL 42.549015 129.123095 \r\nL 44.224118 128.683288 \r\nL 45.89922 128.243481 \r\nL 47.574323 127.803674 \r\nL 49.249426 127.363867 \r\nL 50.924528 126.92406 \r\nL 52.599631 126.484253 \r\nL 54.274733 126.044446 \r\nL 55.949836 125.604639 \r\nL 57.624938 125.164832 \r\nL 59.300041 124.725025 \r\nL 60.975143 124.285218 \r\nL 62.650246 123.845411 \r\nL 64.325348 123.405604 \r\nL 66.000451 122.965797 \r\nL 67.675553 122.52599 \r\nL 69.350656 122.086183 \r\nL 71.025758 121.646376 \r\nL 72.700861 121.206569 \r\nL 74.375963 120.766762 \r\nL 76.051066 120.326955 \r\nL 77.726168 119.887148 \r\nL 79.401271 119.447341 \r\nL 81.076373 119.007534 \r\nL 82.751476 118.567727 \r\nL 84.426579 118.12792 \r\nL 86.101681 117.688113 \r\nL 87.776784 117.248306 \r\nL 89.451886 116.808499 \r\nL 91.126989 116.368692 \r\nL 92.802091 115.928885 \r\nL 94.477194 115.489078 \r\nL 96.152296 115.04927 \r\nL 97.827399 114.609463 \r\nL 99.502501 114.169656 \r\nL 101.177604 113.729849 \r\nL 102.852706 113.290042 \r\nL 104.527809 112.850235 \r\nL 106.202911 112.410428 \r\nL 107.878014 111.970621 \r\nL 109.553116 111.530814 \r\nL 111.228219 111.091007 \r\nL 112.903321 110.6512 \r\nL 114.578424 110.211393 \r\nL 116.253526 109.771586 \r\nL 117.928629 109.331779 \r\nL 119.603732 108.891972 \r\nL 121.278834 108.452165 \r\nL 122.953937 108.012358 \r\nL 124.629039 107.572551 \r\nL 126.304142 107.132744 \r\nL 127.979244 106.692937 \r\nL 129.654347 106.25313 \r\nL 131.329449 105.813323 \r\nL 133.004552 105.373516 \r\nL 134.679654 104.933709 \r\nL 136.354757 104.493902 \r\nL 138.029859 104.054095 \r\nL 139.704962 103.614288 \r\nL 141.380064 103.174481 \r\nL 143.055167 102.734674 \r\nL 144.730269 102.294867 \r\nL 146.405372 101.85506 \r\nL 148.080474 101.415253 \r\nL 149.755577 100.975446 \r\nL 151.430679 100.535639 \r\nL 153.105782 100.095832 \r\nL 154.780884 99.656025 \r\nL 156.455987 99.216218 \r\nL 158.13109 98.776411 \r\nL 159.806192 98.336604 \r\nL 161.481295 97.896797 \r\nL 163.156397 97.45699 \r\nL 164.8315 97.017183 \r\nL 166.506602 96.577376 \r\nL 168.181705 96.137569 \r\nL 169.856807 95.697762 \r\nL 171.53191 95.257955 \r\nL 173.207012 94.818148 \r\nL 174.882115 94.378341 \r\nL 176.557217 93.938534 \r\nL 178.23232 93.498727 \r\nL 179.907422 93.05892 \r\nL 181.582525 92.619113 \r\nL 183.257627 92.179306 \r\nL 184.93273 91.739499 \r\nL 186.607832 91.299692 \r\nL 188.282935 90.859885 \r\nL 189.958037 90.420078 \r\nL 191.63314 89.980271 \r\nL 193.308243 89.540464 \r\n\" style=\"fill:none;stroke:#0000ff;stroke-linecap:square;stroke-width:1.5;\"/>\r\n   </g>\r\n   <g id=\"patch_3\">\r\n    <path d=\"M 19.181335 185.744323 \r\nL 19.181335 7.2 \r\n\" style=\"fill:none;stroke:#000000;stroke-linecap:square;stroke-linejoin:miter;stroke-width:0.8;\"/>\r\n   </g>\r\n   <g id=\"patch_4\">\r\n    <path d=\"M 201.6 185.744323 \r\nL 201.6 7.2 \r\n\" style=\"fill:none;stroke:#000000;stroke-linecap:square;stroke-linejoin:miter;stroke-width:0.8;\"/>\r\n   </g>\r\n   <g id=\"patch_5\">\r\n    <path d=\"M 19.181335 185.744323 \r\nL 201.6 185.744323 \r\n\" style=\"fill:none;stroke:#000000;stroke-linecap:square;stroke-linejoin:miter;stroke-width:0.8;\"/>\r\n   </g>\r\n   <g id=\"patch_6\">\r\n    <path d=\"M 19.181335 7.2 \r\nL 201.6 7.2 \r\n\" style=\"fill:none;stroke:#000000;stroke-linecap:square;stroke-linejoin:miter;stroke-width:0.8;\"/>\r\n   </g>\r\n  </g>\r\n </g>\r\n <defs>\r\n  <clipPath id=\"pdd74d4cf0e\">\r\n   <rect height=\"178.544323\" width=\"182.418665\" x=\"19.181335\" y=\"7.2\"/>\r\n  </clipPath>\r\n </defs>\r\n</svg>\r\n",
      "image/png": "[encoded data removed]"
     },
     "metadata": {
      "needs_background": "light"
     }
    }
   ],
   "source": [
    "# compute accuracy\n",
    "theta = theta_trace[-1]  # last theta of the trace\n",
    "print(sum(np.around(sigma(theta)) == y) / float(x.shape[0]))\n",
    "\n",
    "# visualization\n",
    "xp = np.linspace(min(x[:, 0]), max(x[:, 0]), 100)\n",
    "yp = -(theta[0] * xp + theta[2]) / theta[1]\n",
    "\n",
    "idx0 = np.where(y == 0) \n",
    "idx1 = np.where(y == 1)\n",
    "\n",
    "plt.figure(figsize=(3, 3))\n",
    "\n",
    "plt.plot(x[idx0[0], 0], x[idx0[0], 1], 'rx')\n",
    "plt.plot(x[idx1[0], 0], x[idx1[0], 1], 'go')\n",
    "plt.plot(xp, yp, '-b')\n",
    "\n",
    "plt.tight_layout()\n",
    "plt.savefig('figures/logistic_regression.pdf')"
   ]
  }
 ]
}